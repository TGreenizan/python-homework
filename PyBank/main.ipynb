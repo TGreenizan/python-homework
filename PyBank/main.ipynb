{
 "cells": [
  {
   "cell_type": "code",
   "execution_count": 1,
   "id": "4e82246f-049d-4c6f-8209-e9559b127315",
   "metadata": {},
   "outputs": [],
   "source": [
    "# PyBank homework -- "
   ]
  },
  {
   "cell_type": "code",
   "execution_count": 217,
   "id": "97401f63-53be-48a1-b906-c2288a7de8e1",
   "metadata": {},
   "outputs": [
    {
     "name": "stdout",
     "output_type": "stream",
     "text": [
      "\n",
      " Financial Analysis\n",
      "-----------------------\n",
      "Total Months: 86\n",
      "Total Revenue: $38382578.00\n",
      "Average Revenue Change: $432175.87\n",
      "Greatest Increase in Revenue:Feb-2012 ($1926159)\n",
      "Greatest Decrease in Revenue:Sep-2013 ($-2196167)\n",
      "\n"
     ]
    }
   ],
   "source": [
    "# PyBank homework -- \n",
    "\n",
    "#load programs and .csv. create output txt file.\n",
    "\n",
    "import numpy as np\n",
    "import numpy_financial as npf\n",
    "import pandas as pd\n",
    "import os\n",
    "import csv\n",
    "load_csv='c:/Users/trevg/Desktop/school (1)/python-homework/PyBank/budget_data.csv'\n",
    "output_txt='c:/Users/trevg/Desktop/school (1)/python-homework/PyBank/analysis.txt'\n",
    "\n",
    "#initialize values.\n",
    "\n",
    "total_months=0\n",
    "prev_revenue=0\n",
    "month_of_change=[]\n",
    "revenue_change_list=[]\n",
    "total_profit=[]\n",
    "greatest_increases=['', 0]\n",
    "greatest_decreases=['', 999999999]\n",
    "total_revenue=0\n",
    "\n",
    "#reading the .CSV with .DictReader to make use of the existing row titles.\n",
    "\n",
    "with open(load_csv, 'r') as revenue_data:\n",
    "    reader= csv.DictReader(revenue_data)\n",
    "\n",
    "# For loop - reading .csv, caclulate the total months, revenue and change in revenue.\n",
    "    \n",
    "    for row in reader:\n",
    "        total_months=total_months+1\n",
    "        total_revenue=total_revenue+int(row['Profit/Losses'])\n",
    "        \n",
    "#tracking the change in revenue         \n",
    "\n",
    "        revenue_change=int(row['Profit/Losses'])-prev_revenue\n",
    "        prev_revenue=int(row['Profit/Losses'])\n",
    "        revenue_change_list=revenue_change_list+[revenue_change]\n",
    "        month_of_change=month_of_change+[row['Date']]\n",
    "\n",
    "#finding the greatest increase and decrease.\n",
    "        \n",
    "        if (revenue_change>greatest_increases[1]):\n",
    "            greatest_increases[0]=row['Date']\n",
    "            greatest_increases[1]=revenue_change\n",
    "        \n",
    "        if (revenue_change<greatest_decreases[1]):\n",
    "            greatest_decreases[0]=row['Date']\n",
    "            greatest_decreases[1]=revenue_change\n",
    "\n",
    "#calculate the Avrage Revenue.            \n",
    "            \n",
    "            avg_revenue=total_revenue/ total_months\n",
    "\n",
    "#txt and file to output.\n",
    "            \n",
    "output = (\n",
    "      f'\\n Financial Analysis\\n'\n",
    "      f'-----------------------\\n'\n",
    "      f'Total Months: {total_months}\\n'\n",
    "      f'Total Revenue: ${total_revenue:.2f}\\n'\n",
    "      f'Average Revenue Change: ${avg_revenue:.2f}\\n'\n",
    "      f'Greatest Increase in Revenue:{greatest_increases[0]} (${greatest_increases[1]})\\n'\n",
    "      f'Greatest Decrease in Revenue:{greatest_decreases[0]} (${greatest_decreases[1]})\\n'\n",
    "      )\n",
    "        \n",
    "print(output)\n",
    "\n",
    "with open(output_txt, 'w')as txt_file:\n",
    "    txt_file.write(output)"
   ]
  }
 ],
 "metadata": {
  "kernelspec": {
   "display_name": "Python 3 (ipykernel)",
   "language": "python",
   "name": "python3"
  },
  "language_info": {
   "codemirror_mode": {
    "name": "ipython",
    "version": 3
   },
   "file_extension": ".py",
   "mimetype": "text/x-python",
   "name": "python",
   "nbconvert_exporter": "python",
   "pygments_lexer": "ipython3",
   "version": "3.7.11"
  }
 },
 "nbformat": 4,
 "nbformat_minor": 5
}
